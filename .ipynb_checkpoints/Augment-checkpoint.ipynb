{
 "cells": [
  {
   "cell_type": "code",
   "execution_count": 1,
   "metadata": {
    "colab": {
     "base_uri": "https://localhost:8080/"
    },
    "id": "JqjULxlScR7o",
    "outputId": "a88d56bb-6e29-4d17-ac4d-fb84d100fa2d"
   },
   "outputs": [],
   "source": [
    "# from google.colab import drive\n",
    "# drive.mount('/content/drive')"
   ]
  },
  {
   "cell_type": "code",
   "execution_count": 1,
   "metadata": {},
   "outputs": [
    {
     "name": "stdout",
     "output_type": "stream",
     "text": [
      "aug\n"
     ]
    }
   ],
   "source": [
    "import os \n",
    "print(os.environ['CONDA_DEFAULT_ENV']) "
   ]
  },
  {
   "cell_type": "code",
   "execution_count": 2,
   "metadata": {
    "colab": {
     "base_uri": "https://localhost:8080/"
    },
    "id": "VQA2PrEcczq7",
    "outputId": "9254963c-5fd7-4166-a1bf-bf8ed05de55f"
   },
   "outputs": [],
   "source": [
    "# !cp \"/content/drive/MyDrive/big data.zip\" ./\n",
    "# !unzip \"/content/big data.zip\" -d ./"
   ]
  },
  {
   "cell_type": "code",
   "execution_count": 3,
   "metadata": {
    "id": "YpbCkPOOKXIn"
   },
   "outputs": [],
   "source": [
    "# # Standardize images across the dataset, every pixel has mean=0, stdev=1\n",
    "# from tensorflow.keras.datasets import mnist\n",
    "# from tensorflow.keras.preprocessing.image import ImageDataGenerator\n",
    "# import matplotlib.pyplot as plt"
   ]
  },
  {
   "cell_type": "code",
   "execution_count": 4,
   "metadata": {
    "id": "5w0NFdJeCymR"
   },
   "outputs": [],
   "source": [
    "# featurewise_center=True, featurewise_std_normalization=True, zca_whitening=True, rotation_range=40, width_shift_range=0.2, height_shift_range=0.2, horizontal_flip=True, vertical_flip=True "
   ]
  },
  {
   "cell_type": "code",
   "execution_count": 3,
   "metadata": {
    "tags": []
   },
   "outputs": [
    {
     "name": "stdout",
     "output_type": "stream",
     "text": [
      "Requirement already satisfied: tensorflow==2.9.2 in /home/root_samyak/anaconda3/envs/aug/lib/python3.8/site-packages (2.9.2)\n",
      "Requirement already satisfied: libclang>=13.0.0 in /home/root_samyak/.local/lib/python3.8/site-packages (from tensorflow==2.9.2) (14.0.6)\n",
      "Requirement already satisfied: keras<2.10.0,>=2.9.0rc0 in /home/root_samyak/anaconda3/envs/aug/lib/python3.8/site-packages (from tensorflow==2.9.2) (2.9.0)\n",
      "Requirement already satisfied: typing-extensions>=3.6.6 in /home/root_samyak/.local/lib/python3.8/site-packages (from tensorflow==2.9.2) (4.4.0)\n",
      "Requirement already satisfied: setuptools in /home/root_samyak/anaconda3/envs/aug/lib/python3.8/site-packages (from tensorflow==2.9.2) (65.5.0)\n",
      "Requirement already satisfied: numpy>=1.20 in /home/root_samyak/.local/lib/python3.8/site-packages (from tensorflow==2.9.2) (1.23.5)\n",
      "Requirement already satisfied: opt-einsum>=2.3.2 in /home/root_samyak/.local/lib/python3.8/site-packages (from tensorflow==2.9.2) (3.3.0)\n",
      "Requirement already satisfied: packaging in /home/root_samyak/anaconda3/envs/aug/lib/python3.8/site-packages (from tensorflow==2.9.2) (22.0)\n",
      "Requirement already satisfied: absl-py>=1.0.0 in /home/root_samyak/.local/lib/python3.8/site-packages (from tensorflow==2.9.2) (1.3.0)\n",
      "Requirement already satisfied: wrapt>=1.11.0 in /home/root_samyak/.local/lib/python3.8/site-packages (from tensorflow==2.9.2) (1.14.1)\n",
      "Requirement already satisfied: grpcio<2.0,>=1.24.3 in /home/root_samyak/.local/lib/python3.8/site-packages (from tensorflow==2.9.2) (1.51.1)\n",
      "Requirement already satisfied: tensorflow-estimator<2.10.0,>=2.9.0rc0 in /home/root_samyak/anaconda3/envs/aug/lib/python3.8/site-packages (from tensorflow==2.9.2) (2.9.0)\n",
      "Requirement already satisfied: flatbuffers<2,>=1.12 in /home/root_samyak/anaconda3/envs/aug/lib/python3.8/site-packages (from tensorflow==2.9.2) (1.12)\n",
      "Requirement already satisfied: tensorboard<2.10,>=2.9 in /home/root_samyak/anaconda3/envs/aug/lib/python3.8/site-packages (from tensorflow==2.9.2) (2.9.1)\n",
      "Requirement already satisfied: astunparse>=1.6.0 in /home/root_samyak/.local/lib/python3.8/site-packages (from tensorflow==2.9.2) (1.6.3)\n",
      "Requirement already satisfied: protobuf<3.20,>=3.9.2 in /home/root_samyak/.local/lib/python3.8/site-packages (from tensorflow==2.9.2) (3.19.6)\n",
      "Requirement already satisfied: tensorflow-io-gcs-filesystem>=0.23.1 in /home/root_samyak/.local/lib/python3.8/site-packages (from tensorflow==2.9.2) (0.28.0)\n",
      "Requirement already satisfied: six>=1.12.0 in /home/root_samyak/anaconda3/envs/aug/lib/python3.8/site-packages (from tensorflow==2.9.2) (1.16.0)\n",
      "Requirement already satisfied: keras-preprocessing>=1.1.1 in /home/root_samyak/anaconda3/envs/aug/lib/python3.8/site-packages (from tensorflow==2.9.2) (1.1.2)\n",
      "Requirement already satisfied: h5py>=2.9.0 in /home/root_samyak/.local/lib/python3.8/site-packages (from tensorflow==2.9.2) (3.7.0)\n",
      "Requirement already satisfied: termcolor>=1.1.0 in /home/root_samyak/.local/lib/python3.8/site-packages (from tensorflow==2.9.2) (2.1.1)\n",
      "Requirement already satisfied: gast<=0.4.0,>=0.2.1 in /home/root_samyak/.local/lib/python3.8/site-packages (from tensorflow==2.9.2) (0.4.0)\n",
      "Requirement already satisfied: google-pasta>=0.1.1 in /home/root_samyak/.local/lib/python3.8/site-packages (from tensorflow==2.9.2) (0.2.0)\n",
      "Requirement already satisfied: wheel<1.0,>=0.23.0 in /home/root_samyak/anaconda3/envs/aug/lib/python3.8/site-packages (from astunparse>=1.6.0->tensorflow==2.9.2) (0.37.1)\n",
      "Requirement already satisfied: tensorboard-data-server<0.7.0,>=0.6.0 in /home/root_samyak/.local/lib/python3.8/site-packages (from tensorboard<2.10,>=2.9->tensorflow==2.9.2) (0.6.1)\n",
      "Requirement already satisfied: markdown>=2.6.8 in /home/root_samyak/anaconda3/envs/aug/lib/python3.8/site-packages (from tensorboard<2.10,>=2.9->tensorflow==2.9.2) (3.4.1)\n",
      "Requirement already satisfied: tensorboard-plugin-wit>=1.6.0 in /home/root_samyak/.local/lib/python3.8/site-packages (from tensorboard<2.10,>=2.9->tensorflow==2.9.2) (1.8.1)\n",
      "Requirement already satisfied: google-auth-oauthlib<0.5,>=0.4.1 in /home/root_samyak/.local/lib/python3.8/site-packages (from tensorboard<2.10,>=2.9->tensorflow==2.9.2) (0.4.6)\n",
      "Requirement already satisfied: google-auth<3,>=1.6.3 in /home/root_samyak/.local/lib/python3.8/site-packages (from tensorboard<2.10,>=2.9->tensorflow==2.9.2) (2.15.0)\n",
      "Requirement already satisfied: werkzeug>=1.0.1 in /home/root_samyak/.local/lib/python3.8/site-packages (from tensorboard<2.10,>=2.9->tensorflow==2.9.2) (2.2.2)\n",
      "Requirement already satisfied: requests<3,>=2.21.0 in /home/root_samyak/anaconda3/envs/aug/lib/python3.8/site-packages (from tensorboard<2.10,>=2.9->tensorflow==2.9.2) (2.28.1)\n",
      "Requirement already satisfied: rsa<5,>=3.1.4 in /home/root_samyak/.local/lib/python3.8/site-packages (from google-auth<3,>=1.6.3->tensorboard<2.10,>=2.9->tensorflow==2.9.2) (4.9)\n",
      "Requirement already satisfied: pyasn1-modules>=0.2.1 in /home/root_samyak/anaconda3/envs/aug/lib/python3.8/site-packages (from google-auth<3,>=1.6.3->tensorboard<2.10,>=2.9->tensorflow==2.9.2) (0.2.8)\n",
      "Requirement already satisfied: cachetools<6.0,>=2.0.0 in /home/root_samyak/.local/lib/python3.8/site-packages (from google-auth<3,>=1.6.3->tensorboard<2.10,>=2.9->tensorflow==2.9.2) (5.2.0)\n",
      "Requirement already satisfied: requests-oauthlib>=0.7.0 in /home/root_samyak/.local/lib/python3.8/site-packages (from google-auth-oauthlib<0.5,>=0.4.1->tensorboard<2.10,>=2.9->tensorflow==2.9.2) (1.3.1)\n",
      "Requirement already satisfied: importlib-metadata>=4.4 in /home/root_samyak/anaconda3/envs/aug/lib/python3.8/site-packages (from markdown>=2.6.8->tensorboard<2.10,>=2.9->tensorflow==2.9.2) (5.2.0)\n",
      "Requirement already satisfied: idna<4,>=2.5 in /home/root_samyak/anaconda3/envs/aug/lib/python3.8/site-packages (from requests<3,>=2.21.0->tensorboard<2.10,>=2.9->tensorflow==2.9.2) (3.4)\n",
      "Requirement already satisfied: certifi>=2017.4.17 in /home/root_samyak/anaconda3/envs/aug/lib/python3.8/site-packages (from requests<3,>=2.21.0->tensorboard<2.10,>=2.9->tensorflow==2.9.2) (2022.12.7)\n",
      "Requirement already satisfied: urllib3<1.27,>=1.21.1 in /home/root_samyak/anaconda3/envs/aug/lib/python3.8/site-packages (from requests<3,>=2.21.0->tensorboard<2.10,>=2.9->tensorflow==2.9.2) (1.26.13)\n",
      "Requirement already satisfied: charset-normalizer<3,>=2 in /home/root_samyak/anaconda3/envs/aug/lib/python3.8/site-packages (from requests<3,>=2.21.0->tensorboard<2.10,>=2.9->tensorflow==2.9.2) (2.1.1)\n",
      "Requirement already satisfied: MarkupSafe>=2.1.1 in /home/root_samyak/.local/lib/python3.8/site-packages (from werkzeug>=1.0.1->tensorboard<2.10,>=2.9->tensorflow==2.9.2) (2.1.1)\n",
      "Requirement already satisfied: zipp>=0.5 in /home/root_samyak/anaconda3/envs/aug/lib/python3.8/site-packages (from importlib-metadata>=4.4->markdown>=2.6.8->tensorboard<2.10,>=2.9->tensorflow==2.9.2) (3.11.0)\n",
      "Requirement already satisfied: pyasn1<0.5.0,>=0.4.6 in /home/root_samyak/anaconda3/envs/aug/lib/python3.8/site-packages (from pyasn1-modules>=0.2.1->google-auth<3,>=1.6.3->tensorboard<2.10,>=2.9->tensorflow==2.9.2) (0.4.8)\n",
      "Requirement already satisfied: oauthlib>=3.0.0 in /home/root_samyak/anaconda3/envs/aug/lib/python3.8/site-packages (from requests-oauthlib>=0.7.0->google-auth-oauthlib<0.5,>=0.4.1->tensorboard<2.10,>=2.9->tensorflow==2.9.2) (3.2.2)\n",
      "Requirement already satisfied: keras==2.9.0 in /home/root_samyak/anaconda3/envs/aug/lib/python3.8/site-packages (2.9.0)\n"
     ]
    }
   ],
   "source": [
    "!pip install tensorflow==2.9.2\n",
    "!pip install keras==2.9.0"
   ]
  },
  {
   "cell_type": "code",
   "execution_count": 1,
   "metadata": {},
   "outputs": [
    {
     "ename": "ModuleNotFoundError",
     "evalue": "No module named 'tensorflow'",
     "output_type": "error",
     "traceback": [
      "\u001b[0;31m---------------------------------------------------------------------------\u001b[0m",
      "\u001b[0;31mModuleNotFoundError\u001b[0m                       Traceback (most recent call last)",
      "Input \u001b[0;32mIn [1]\u001b[0m, in \u001b[0;36m<cell line: 1>\u001b[0;34m()\u001b[0m\n\u001b[0;32m----> 1\u001b[0m \u001b[38;5;28;01mfrom\u001b[39;00m \u001b[38;5;21;01mtensorflow\u001b[39;00m \u001b[38;5;28;01mimport\u001b[39;00m keras\n",
      "\u001b[0;31mModuleNotFoundError\u001b[0m: No module named 'tensorflow'"
     ]
    }
   ],
   "source": [
    "from tensorflow import keras"
   ]
  },
  {
   "cell_type": "code",
   "execution_count": 2,
   "metadata": {
    "colab": {
     "base_uri": "https://localhost:8080/",
     "height": 1000
    },
    "id": "9TIKwR4_24GG",
    "outputId": "675752a8-56f4-4966-9b6d-50a0892af2b4"
   },
   "outputs": [
    {
     "ename": "ModuleNotFoundError",
     "evalue": "No module named 'keras'",
     "output_type": "error",
     "traceback": [
      "\u001b[0;31m---------------------------------------------------------------------------\u001b[0m",
      "\u001b[0;31mModuleNotFoundError\u001b[0m                       Traceback (most recent call last)",
      "Input \u001b[0;32mIn [2]\u001b[0m, in \u001b[0;36m<cell line: 1>\u001b[0;34m()\u001b[0m\n\u001b[0;32m----> 1\u001b[0m \u001b[38;5;28;01mfrom\u001b[39;00m \u001b[38;5;21;01mkeras\u001b[39;00m\u001b[38;5;21;01m.\u001b[39;00m\u001b[38;5;21;01mpreprocessing\u001b[39;00m\u001b[38;5;21;01m.\u001b[39;00m\u001b[38;5;21;01mimage\u001b[39;00m \u001b[38;5;28;01mimport\u001b[39;00m ImageDataGenerator\n\u001b[1;32m      2\u001b[0m \u001b[38;5;28;01mfrom\u001b[39;00m \u001b[38;5;21;01mtensorflow\u001b[39;00m\u001b[38;5;21;01m.\u001b[39;00m\u001b[38;5;21;01mkeras\u001b[39;00m\u001b[38;5;21;01m.\u001b[39;00m\u001b[38;5;21;01mutils\u001b[39;00m \u001b[38;5;28;01mimport\u001b[39;00m array_to_img, img_to_array, load_img\n\u001b[1;32m      3\u001b[0m \u001b[38;5;28;01mimport\u001b[39;00m \u001b[38;5;21;01mos\u001b[39;00m\n",
      "\u001b[0;31mModuleNotFoundError\u001b[0m: No module named 'keras'"
     ]
    }
   ],
   "source": [
    "from keras.preprocessing.image import ImageDataGenerator\n",
    "from tensorflow.keras.utils import array_to_img, img_to_array, load_img\n",
    "import os\n",
    "# for i in os.listdir()\n",
    "\n",
    "\n",
    "datagen = ImageDataGenerator(\n",
    "        featurewise_center=True, \n",
    "        featurewise_std_normalization=True, \n",
    "        zca_whitening=True, \n",
    "        zca_epsilon=1e-06,\n",
    "        rotation_range=30,\n",
    "        width_shift_range=0.2,\n",
    "        height_shift_range=0.2,\n",
    "        shear_range=0.2,\n",
    "        zoom_range=0.2,\n",
    "        horizontal_flip=True,\n",
    "        vertical_flip=True,\n",
    "        brightness_range=(0.3, 0.7),\n",
    "        channel_shift_range=100.0,\n",
    "        fill_mode='nearest')\n",
    "\n",
    "for files in os.listdir('../jewellery-recognition-ui/big data'):\n",
    "  print(files)\n",
    "  img = load_img('../jewellery-recognition-ui/big data/' + files)  # this is a PIL image\n",
    "  x = img_to_array(img)  # this is a Numpy array with shape (3, 150, 150)\n",
    "  x = x.reshape((1,) + x.shape)  # this is a Numpy array with shape (1, 3, 150, 150)\n",
    "\n",
    "  # the .flow() command below generates batches of randomly transformed images\n",
    "  # and saves the results to the `preview/` directory\n",
    "  i = 0\n",
    "  for batch in datagen.flow(x, batch_size=1,\n",
    "                            save_to_dir='../jewellery-recognition-ui/aug_big_data', save_prefix='j_', save_format='jpeg'):\n",
    "      i += 1\n",
    "      if i > 10:\n",
    "          break  # otherwise the generator would loop indefinitely"
   ]
  },
  {
   "cell_type": "code",
   "execution_count": null,
   "metadata": {
    "colab": {
     "base_uri": "https://localhost:8080/"
    },
    "id": "J2SIA8jCKYYW",
    "outputId": "43db5619-9b74-42bf-c244-13f0c64d2d21"
   },
   "outputs": [
    {
     "name": "stdout",
     "output_type": "stream",
     "text": [
      "369\n"
     ]
    }
   ],
   "source": [
    "l = os.listdir('/content/train_result')\n",
    "print(len(l))"
   ]
  },
  {
   "cell_type": "code",
   "execution_count": null,
   "metadata": {
    "colab": {
     "base_uri": "https://localhost:8080/"
    },
    "id": "jFP7z1u4KYal",
    "outputId": "6ff53e6c-2352-4da5-b4d5-7b5d2298c88e"
   },
   "outputs": [
    {
     "name": "stdout",
     "output_type": "stream",
     "text": [
      "93\n"
     ]
    }
   ],
   "source": [
    "l1 = os.listdir('/content/Enquiry Images/train')\n",
    "print(len(l1))"
   ]
  },
  {
   "cell_type": "code",
   "execution_count": null,
   "metadata": {
    "colab": {
     "base_uri": "https://localhost:8080/"
    },
    "id": "nNjqLbSzKYc2",
    "outputId": "67f06a62-f0b0-47c8-ffc6-7e6d438e4133"
   },
   "outputs": [
    {
     "name": "stdout",
     "output_type": "stream",
     "text": [
      "  adding: content/result/ (stored 0%)\n",
      "  adding: content/result/j__0_3768.jpeg (deflated 2%)\n",
      "  adding: content/result/j__0_7225.jpeg (deflated 1%)\n",
      "  adding: content/result/j__0_4990.jpeg (deflated 5%)\n",
      "  adding: content/result/j__0_7165.jpeg (deflated 2%)\n",
      "  adding: content/result/j__0_3199.jpeg (deflated 2%)\n",
      "  adding: content/result/j__0_7775.jpeg (deflated 0%)\n",
      "  adding: content/result/j__0_1586.jpeg (deflated 1%)\n",
      "  adding: content/result/j__0_4788.jpeg (deflated 0%)\n",
      "  adding: content/result/j__0_4774.jpeg (deflated 1%)\n",
      "  adding: content/result/j__0_5999.jpeg (deflated 2%)\n",
      "  adding: content/result/j__0_9027.jpeg (deflated 2%)\n",
      "  adding: content/result/j__0_225.jpeg (deflated 1%)\n",
      "  adding: content/result/j__0_868.jpeg (deflated 2%)\n",
      "  adding: content/result/j__0_5368.jpeg (deflated 2%)\n",
      "  adding: content/result/j__0_8893.jpeg (deflated 1%)\n",
      "  adding: content/result/j__0_6009.jpeg (deflated 1%)\n",
      "  adding: content/result/j__0_7795.jpeg (deflated 9%)\n",
      "  adding: content/result/j__0_6721.jpeg (deflated 1%)\n",
      "  adding: content/result/j__0_8306.jpeg (deflated 2%)\n",
      "  adding: content/result/j__0_6248.jpeg (deflated 24%)\n",
      "  adding: content/result/j__0_4055.jpeg (deflated 1%)\n",
      "  adding: content/result/j__0_6366.jpeg (deflated 1%)\n",
      "  adding: content/result/j__0_9696.jpeg (deflated 3%)\n",
      "  adding: content/result/j__0_4581.jpeg (deflated 36%)\n",
      "  adding: content/result/j__0_5307.jpeg (deflated 0%)\n",
      "  adding: content/result/j__0_6426.jpeg (deflated 0%)\n",
      "  adding: content/result/j__0_9368.jpeg (deflated 2%)\n",
      "  adding: content/result/j__0_2602.jpeg (deflated 1%)\n",
      "  adding: content/result/j__0_4292.jpeg (deflated 3%)\n",
      "  adding: content/result/j__0_4023.jpeg (deflated 2%)\n",
      "  adding: content/result/j__0_4458.jpeg (deflated 2%)\n",
      "  adding: content/result/j__0_7112.jpeg (deflated 1%)\n",
      "  adding: content/result/j__0_9536.jpeg (deflated 3%)\n",
      "  adding: content/result/j__0_8251.jpeg (deflated 2%)\n",
      "  adding: content/result/j__0_6997.jpeg (deflated 1%)\n",
      "  adding: content/result/j__0_7137.jpeg (deflated 5%)\n",
      "  adding: content/result/j__0_8245.jpeg (deflated 1%)\n",
      "  adding: content/result/j__0_3476.jpeg (deflated 0%)\n",
      "  adding: content/result/j__0_6113.jpeg (deflated 3%)\n",
      "  adding: content/result/j__0_26.jpeg (deflated 1%)\n",
      "  adding: content/result/j__0_165.jpeg (deflated 2%)\n",
      "  adding: content/result/j__0_4588.jpeg (deflated 2%)\n",
      "  adding: content/result/j__0_7783.jpeg (deflated 1%)\n",
      "  adding: content/result/j__0_1213.jpeg (deflated 2%)\n",
      "  adding: content/result/j__0_8314.jpeg (deflated 37%)\n",
      "  adding: content/result/j__0_5346.jpeg (deflated 1%)\n",
      "  adding: content/result/j__0_1845.jpeg (deflated 1%)\n",
      "  adding: content/result/j__0_1972.jpeg (deflated 1%)\n",
      "  adding: content/result/j__0_563.jpeg (deflated 2%)\n",
      "  adding: content/result/j__0_7202.jpeg (deflated 7%)\n",
      "  adding: content/result/j__0_5233.jpeg (deflated 6%)\n",
      "  adding: content/result/j__0_361.jpeg (deflated 7%)\n",
      "  adding: content/result/j__0_2124.jpeg (deflated 2%)\n",
      "  adding: content/result/j__0_1922.jpeg (deflated 1%)\n",
      "  adding: content/result/j__0_3247.jpeg (deflated 0%)\n",
      "  adding: content/result/j__0_6803.jpeg (deflated 13%)\n",
      "  adding: content/result/j__0_9495.jpeg (deflated 1%)\n",
      "  adding: content/result/j__0_2321.jpeg (deflated 1%)\n",
      "  adding: content/result/j__0_6541.jpeg (deflated 1%)\n",
      "  adding: content/result/j__0_6839.jpeg (deflated 2%)\n",
      "  adding: content/result/j__0_1335.jpeg (deflated 1%)\n",
      "  adding: content/result/j__0_5092.jpeg (deflated 4%)\n",
      "  adding: content/result/j__0_6300.jpeg (deflated 1%)\n",
      "  adding: content/result/j__0_6521.jpeg (deflated 17%)\n",
      "  adding: content/result/j__0_9293.jpeg (deflated 2%)\n",
      "  adding: content/result/j__0_7567.jpeg (deflated 3%)\n",
      "  adding: content/result/j__0_5881.jpeg (deflated 2%)\n",
      "  adding: content/result/j__0_1602.jpeg (deflated 1%)\n",
      "  adding: content/result/j__0_1872.jpeg (deflated 1%)\n",
      "  adding: content/result/j__0_1623.jpeg (deflated 1%)\n",
      "  adding: content/result/j__0_5840.jpeg (deflated 1%)\n",
      "  adding: content/result/j__0_981.jpeg (deflated 3%)\n",
      "  adding: content/result/j__0_331.jpeg (deflated 1%)\n",
      "  adding: content/result/j__0_367.jpeg (deflated 1%)\n",
      "  adding: content/result/j__0_1515.jpeg (deflated 3%)\n",
      "  adding: content/result/j__0_6711.jpeg (deflated 3%)\n",
      "  adding: content/result/j__0_8103.jpeg (deflated 1%)\n",
      "  adding: content/result/j__0_7834.jpeg (deflated 21%)\n",
      "  adding: content/result/j__0_8340.jpeg (deflated 4%)\n",
      "  adding: content/result/j__0_4757.jpeg (deflated 1%)\n"
     ]
    }
   ],
   "source": [
    "!zip -r results.zip /content/train_result"
   ]
  },
  {
   "cell_type": "code",
   "execution_count": null,
   "metadata": {
    "colab": {
     "base_uri": "https://localhost:8080/",
     "height": 34
    },
    "id": "B7yQ5hjAKYe1",
    "outputId": "9b8cf9a1-8ffe-4f0b-ad16-e8cc5dd51dc0"
   },
   "outputs": [
    {
     "data": {
      "application/javascript": [
       "\n",
       "    async function download(id, filename, size) {\n",
       "      if (!google.colab.kernel.accessAllowed) {\n",
       "        return;\n",
       "      }\n",
       "      const div = document.createElement('div');\n",
       "      const label = document.createElement('label');\n",
       "      label.textContent = `Downloading \"${filename}\": `;\n",
       "      div.appendChild(label);\n",
       "      const progress = document.createElement('progress');\n",
       "      progress.max = size;\n",
       "      div.appendChild(progress);\n",
       "      document.body.appendChild(div);\n",
       "\n",
       "      const buffers = [];\n",
       "      let downloaded = 0;\n",
       "\n",
       "      const channel = await google.colab.kernel.comms.open(id);\n",
       "      // Send a message to notify the kernel that we're ready.\n",
       "      channel.send({})\n",
       "\n",
       "      for await (const message of channel.messages) {\n",
       "        // Send a message to notify the kernel that we're ready.\n",
       "        channel.send({})\n",
       "        if (message.buffers) {\n",
       "          for (const buffer of message.buffers) {\n",
       "            buffers.push(buffer);\n",
       "            downloaded += buffer.byteLength;\n",
       "            progress.value = downloaded;\n",
       "          }\n",
       "        }\n",
       "      }\n",
       "      const blob = new Blob(buffers, {type: 'application/binary'});\n",
       "      const a = document.createElement('a');\n",
       "      a.href = window.URL.createObjectURL(blob);\n",
       "      a.download = filename;\n",
       "      div.appendChild(a);\n",
       "      a.click();\n",
       "      div.remove();\n",
       "    }\n",
       "  "
      ],
      "text/plain": [
       "<IPython.core.display.Javascript object>"
      ]
     },
     "metadata": {},
     "output_type": "display_data"
    },
    {
     "data": {
      "application/javascript": [
       "download(\"download_8077aab6-b53a-4d04-94b7-b6a9fd68ceea\", \"results.zip\", 84446699)"
      ],
      "text/plain": [
       "<IPython.core.display.Javascript object>"
      ]
     },
     "metadata": {},
     "output_type": "display_data"
    }
   ],
   "source": [
    "# from google.colab import files\n",
    "# files.download('/content/results.zip') "
   ]
  },
  {
   "cell_type": "code",
   "execution_count": null,
   "metadata": {
    "id": "vMW2qMgtKYkW"
   },
   "outputs": [],
   "source": [
    "!cp /content/results.zip /content/drive/MyDrive/aug_res"
   ]
  },
  {
   "cell_type": "code",
   "execution_count": null,
   "metadata": {
    "id": "xx4t5GhbJIzq"
   },
   "outputs": [],
   "source": []
  }
 ],
 "metadata": {
  "accelerator": "GPU",
  "colab": {
   "provenance": []
  },
  "gpuClass": "standard",
  "kernelspec": {
   "display_name": "Python 3 (ipykernel)",
   "language": "python",
   "name": "python3"
  },
  "language_info": {
   "codemirror_mode": {
    "name": "ipython",
    "version": 3
   },
   "file_extension": ".py",
   "mimetype": "text/x-python",
   "name": "python",
   "nbconvert_exporter": "python",
   "pygments_lexer": "ipython3",
   "version": "3.9.12"
  }
 },
 "nbformat": 4,
 "nbformat_minor": 4
}
